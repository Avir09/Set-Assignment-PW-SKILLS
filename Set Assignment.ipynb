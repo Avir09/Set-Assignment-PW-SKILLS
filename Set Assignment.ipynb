{
 "cells": [
  {
   "cell_type": "raw",
   "id": "76656cb1-6ab6-42c1-820a-b447a806cff5",
   "metadata": {},
   "source": [
    "Q.1\n",
    "A set in Python is an unordered collection of unique elements. It is similar to a list or a tuple, but unlike those data structures, a set does not maintain the order of its elements. Additionally, each element in a set must be unique; duplicates are not allowed.\n",
    "\n",
    "In Python, a set is created using curly braces ({}) or the set() function. Here's an example of creating a set:\n",
    "set1 = {1, 2, 3, 4, 5}"
   ]
  },
  {
   "cell_type": "raw",
   "id": "bb42cd72-0965-49e6-bc34-a67349318f0f",
   "metadata": {},
   "source": [
    "Q.2\n",
    "In Python, you can create a set using either curly braces {} or the set() function.\n",
    "Consider the previous example."
   ]
  },
  {
   "cell_type": "raw",
   "id": "2d573c4f-302a-4266-b5cb-4900271d7776",
   "metadata": {},
   "source": [
    "Q.3\n",
    "n Python, you can add elements to a set using the add() method method. Here's how to use these methods:\n",
    "\n",
    "Using the add() method:\n",
    "You can use the add() method to add a single element to a set. Here's an example:\n",
    "set2= {1, 2, 3}\n",
    "set2.add(4)\n",
    "print(set2)   #output is {1,2,3,4}"
   ]
  },
  {
   "cell_type": "raw",
   "id": "93f082f5-1245-4fce-93ec-f4021c56e797",
   "metadata": {},
   "source": [
    "Q.4\n",
    "In Python, you can remove elements from a set using the remove(), discard(), and pop() methods.\n",
    "\n",
    "1. Using the remove() method:\n",
    "You can use the remove() method to remove a specific element from the set. If the element is not in the set, a KeyError will be raised. Here's an example:\n",
    "set3 = {1, 2, 3}\n",
    "set3.remove(2)\n",
    "print(set3) # output: {1, 3}\n",
    "\n",
    "2. Using the discard() method:\n",
    "You can use the discard() method to remove a specific element from the set. If the element is not in the set, no error will be raised. Here's an example:\n",
    "set4 = {1, 2, 3}\n",
    "set4.discard(2)\n",
    "print(set4) # output: {1, 3}\n",
    "\n",
    "4. Using the pop() method:\n",
    "You can use the pop() method to remove and return an arbitrary element from the set. Since sets are unordered, the element that is popped is not guaranteed to be any specific element. Here's an example:\n",
    "\n",
    "set5 = {1, 2, 3}\n",
    "popped_element = set5.pop()\n",
    "print(my_set5) # output: {2, 3} (Note that 1 could have been popped as well)\n",
    "print(popped_element) # output: 1\n"
   ]
  }
 ],
 "metadata": {
  "kernelspec": {
   "display_name": "Python 3 (ipykernel)",
   "language": "python",
   "name": "python3"
  },
  "language_info": {
   "codemirror_mode": {
    "name": "ipython",
    "version": 3
   },
   "file_extension": ".py",
   "mimetype": "text/x-python",
   "name": "python",
   "nbconvert_exporter": "python",
   "pygments_lexer": "ipython3",
   "version": "3.10.8"
  }
 },
 "nbformat": 4,
 "nbformat_minor": 5
}
